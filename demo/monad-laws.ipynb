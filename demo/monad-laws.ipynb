{
 "cells": [
  {
   "cell_type": "code",
   "execution_count": 1,
   "metadata": {
    "collapsed": true
   },
   "outputs": [],
   "source": [
    "{-# LANGUAGE OverloadedStrings, FlexibleContexts #-}\n",
    "import Data.List.Stretchable"
   ]
  },
  {
   "cell_type": "code",
   "execution_count": 2,
   "metadata": {
    "collapsed": false
   },
   "outputs": [
    {
     "data": {
      "text/plain": [
       "[0,1,2,3]:*(4,[5])"
      ]
     },
     "metadata": {},
     "output_type": "display_data"
    },
    {
     "data": {
      "text/plain": [
       "\"bar\":*('.',\"  \")"
      ]
     },
     "metadata": {},
     "output_type": "display_data"
    }
   ],
   "source": [
    "l :: Stretch Int\n",
    "l = [0,1,2,3]:*(4,[5])\n",
    "l\n",
    "\n",
    "s :: Stretch Char\n",
    "s = \"bar\":*('.',\"  \")\n",
    "s"
   ]
  },
  {
   "cell_type": "code",
   "execution_count": 3,
   "metadata": {
    "collapsed": false
   },
   "outputs": [
    {
     "data": {
      "text/plain": [
       "[\"\",\"a\",\"rr\",\"...\"]:*(\"    \",[\"     \",\"....\",\"     \",\"    \",\".....\"])"
      ]
     },
     "metadata": {},
     "output_type": "display_data"
    },
    {
     "data": {
      "text/plain": [
       "[('l','b'),('o','a'),('r','r'),('e','.'),('m',' '),(' ',' '),('i','.'),('p',' '),('s',' '),('u','.'),('m',' ')]:*((' ',' '),[(' ','.'),(' ',' ')])"
      ]
     },
     "metadata": {},
     "output_type": "display_data"
    }
   ],
   "source": [
    "replicate <$> l <*> s       :: Stretch String\n",
    "(,) <$> \"lorem ipsum\" <*> s :: Stretch (Char,Char)"
   ]
  },
  {
   "cell_type": "code",
   "execution_count": 4,
   "metadata": {
    "collapsed": false
   },
   "outputs": [
    {
     "data": {
      "text/plain": [
       "[\"bar\":*('.',\"  \"),\"ar\":*('.',\"  \"),\"r\":*('.',\"  \")]:*(\"\":*('.',\"  \"),[\"\":*(' ',\" .\"),\"\":*(' ',\". \")])"
      ]
     },
     "metadata": {},
     "output_type": "display_data"
    },
    {
     "data": {
      "text/plain": [
       "\"bar\":*('.',\"  \")"
      ]
     },
     "metadata": {},
     "output_type": "display_data"
    },
    {
     "data": {
      "text/plain": [
       "\"bar\":*('.',\"  \")"
      ]
     },
     "metadata": {},
     "output_type": "display_data"
    }
   ],
   "source": [
    "import Control.Comonad\n",
    "duplicate s\n",
    "extract $ duplicate s\n",
    "fmap extract $ duplicate s"
   ]
  },
  {
   "cell_type": "code",
   "execution_count": null,
   "metadata": {
    "collapsed": true
   },
   "outputs": [],
   "source": []
  }
 ],
 "metadata": {
  "kernelspec": {
   "display_name": "Haskell",
   "language": "haskell",
   "name": "haskell"
  },
  "language_info": {
   "codemirror_mode": "ihaskell",
   "file_extension": ".hs",
   "name": "haskell",
   "version": "7.10.2"
  }
 },
 "nbformat": 4,
 "nbformat_minor": 0
}
