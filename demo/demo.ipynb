{
 "cells": [
  {
   "cell_type": "code",
   "execution_count": 6,
   "metadata": {
    "collapsed": true
   },
   "outputs": [],
   "source": [
    "{-# LANGUAGE OverloadedStrings, FlexibleContexts #-}\n",
    "import Data.List.Stretchable\n",
    "import Data.Foldable\n",
    "import Data.Semigroup\n",
    "import Data.List (transpose)"
   ]
  },
  {
   "cell_type": "code",
   "execution_count": 2,
   "metadata": {
    "collapsed": false
   },
   "outputs": [
    {
     "data": {
      "text/plain": [
       "[0,1,2,3]"
      ]
     },
     "metadata": {},
     "output_type": "display_data"
    },
    {
     "data": {
      "text/plain": [
       "[0,1,2,3,4,4,4,4]"
      ]
     },
     "metadata": {},
     "output_type": "display_data"
    },
    {
     "data": {
      "text/plain": [
       "\"bar\""
      ]
     },
     "metadata": {},
     "output_type": "display_data"
    },
    {
     "data": {
      "text/plain": [
       "\".  . bar\""
      ]
     },
     "metadata": {},
     "output_type": "display_data"
    },
    {
     "data": {
      "text/plain": [
       "\"barbar\""
      ]
     },
     "metadata": {},
     "output_type": "display_data"
    },
    {
     "data": {
      "text/plain": [
       "\".  .  .  .bar.  .  barbaz.....\""
      ]
     },
     "metadata": {},
     "output_type": "display_data"
    }
   ],
   "source": [
    "l :: Stretch Int\n",
    "l = [0,1,2,3]>:*4\n",
    "toList l\n",
    "stretchToLen 8 l\n",
    "\n",
    "s :: Stretch Char\n",
    "s = ('.',\"  \")*++\"bar\"\n",
    "toList s\n",
    "stretchToLen 8 s\n",
    "\n",
    "toList $ s <> s\n",
    "stretchToLen 30 (s<>s<>(\"baz\">:*'.'))"
   ]
  },
  {
   "cell_type": "code",
   "execution_count": 3,
   "metadata": {
    "collapsed": false
   },
   "outputs": [
    {
     "data": {
      "text/plain": [
       "[\"\",\"b\",\"aa\",\"rrr\"]"
      ]
     },
     "metadata": {},
     "output_type": "display_data"
    },
    {
     "data": {
      "text/plain": [
       "[('l','.'),('o',' '),('r',' '),('e','.'),('m',' '),(' ',' '),('i','.'),('p',' '),('s','b'),('u','a'),('m','r')]"
      ]
     },
     "metadata": {},
     "output_type": "display_data"
    }
   ],
   "source": [
    "toList (replicate <$> l <*> s        :: Stretch String      )\n",
    "toList ( (,) <$> \"lorem ipsum\" <*> s :: Stretch (Char,Char) )"
   ]
  },
  {
   "cell_type": "code",
   "execution_count": 18,
   "metadata": {
    "collapsed": false
   },
   "outputs": [
    {
     "data": {
      "text/plain": [
       "Lorem ipsum                        \n",
       "dolor     sit   amet,   consectetur\n",
       "adipiscing  elit,  sed  do  eiusmod\n",
       "tempor     incididunt   ut   labore\n",
       "et dolore magna aliqua.            \n",
       "Ut   enim  ad  minim  veniam,  quis\n",
       "nostrud    exercitation     ullamco\n",
       "laboris   nisi  ut  aliquip  ex  ea\n",
       "commodo    consequat.   Duis   aute\n",
       "irure    dolor   in   reprehenderit\n",
       "in  voluptate  velit   esse  cillum\n",
       "dolore  eu fugiat  nulla  pariatur.\n",
       "Excepteur  sint  occaecat cupidatat\n",
       "non  proident,  sunt in  culpa  qui\n",
       "officia deserunt mollit anim id est\n",
       "laborum."
      ]
     },
     "metadata": {},
     "output_type": "display_data"
    }
   ],
   "source": [
    "mapM_ putStrLn . transpose $ toList (\n",
    " sequenceA [ \"Lorem ipsum\">:*' '\n",
    "           , \"dolor sit amet, consectetur\", \"adipiscing elit, sed do eiusmod\"\n",
    "           , \"tempor incididunt ut labore\", \"et dolore magna aliqua.\">:*' '\n",
    "           , \"Ut enim ad minim veniam, quis\", \"nostrud exercitation ullamco\"\n",
    "           , \"laboris nisi ut aliquip ex ea\", \"commodo consequat. Duis aute\"\n",
    "           , \"irure dolor in reprehenderit\", \"in voluptate velit esse cillum\"\n",
    "           , \"dolore eu fugiat nulla pariatur.\", \"Excepteur sint occaecat cupidatat\"\n",
    "           , \"non proident, sunt in culpa qui\", \"officia deserunt mollit anim id est\"\n",
    "           , \"laborum.\"\n",
    "           ] :: Stretch String )"
   ]
  },
  {
   "cell_type": "code",
   "execution_count": null,
   "metadata": {
    "collapsed": true
   },
   "outputs": [],
   "source": []
  }
 ],
 "metadata": {
  "kernelspec": {
   "display_name": "Haskell",
   "language": "haskell",
   "name": "haskell"
  },
  "language_info": {
   "codemirror_mode": "ihaskell",
   "file_extension": ".hs",
   "name": "haskell",
   "version": "7.10.2"
  }
 },
 "nbformat": 4,
 "nbformat_minor": 0
}
