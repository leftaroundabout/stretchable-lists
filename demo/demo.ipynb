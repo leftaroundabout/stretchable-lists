{
 "cells": [
  {
   "cell_type": "code",
   "execution_count": 1,
   "metadata": {
    "collapsed": true
   },
   "outputs": [],
   "source": [
    "{-# LANGUAGE OverloadedStrings, FlexibleContexts #-}\n",
    "import Data.List.Stretchable\n",
    "import Data.Foldable"
   ]
  },
  {
   "cell_type": "code",
   "execution_count": 2,
   "metadata": {
    "collapsed": false
   },
   "outputs": [
    {
     "data": {
      "text/plain": [
       "[0,1,2,3]"
      ]
     },
     "metadata": {},
     "output_type": "display_data"
    },
    {
     "data": {
      "text/plain": [
       "\"bar\""
      ]
     },
     "metadata": {},
     "output_type": "display_data"
    }
   ],
   "source": [
    "l :: Stretch Int\n",
    "l = [0,1,2,3]>:*4\n",
    "toList l\n",
    "\n",
    "s :: Stretch Char\n",
    "s = ('.',\"  \")*++\"bar\"\n",
    "toList s"
   ]
  },
  {
   "cell_type": "code",
   "execution_count": null,
   "metadata": {
    "collapsed": false
   },
   "outputs": [],
   "source": [
    "-- toList ( replicate <$> l <*> s       :: Stretch String      )\n",
    "-- toList ( (,) <$> \"lorem ipsum\" <*> s :: Stretch (Char,Char) )"
   ]
  },
  {
   "cell_type": "code",
   "execution_count": null,
   "metadata": {
    "collapsed": false
   },
   "outputs": [],
   "source": [
    "import Control.Comonad\n",
    "duplicate s\n",
    "extract $ duplicate s\n",
    "fmap extract $ duplicate s"
   ]
  },
  {
   "cell_type": "code",
   "execution_count": null,
   "metadata": {
    "collapsed": false
   },
   "outputs": [],
   "source": [
    "mapM_ print (\n",
    " sequenceA $ \"Lorem ipsum\"\n",
    "          :# \"dolor sit amet,\":#\"consectetur\"\n",
    "          :# \"adipiscing elit,\":#\"sed do eiusmod\"\n",
    "          :# \"tempor incididunt\":#\"ut labore\"\n",
    "      :#pure \"et dolore magna aliqua\"                          :: Stretch (Stretch Char) )"
   ]
  },
  {
   "cell_type": "code",
   "execution_count": null,
   "metadata": {
    "collapsed": true
   },
   "outputs": [],
   "source": []
  }
 ],
 "metadata": {
  "kernelspec": {
   "display_name": "Haskell",
   "language": "haskell",
   "name": "haskell"
  },
  "language_info": {
   "codemirror_mode": "ihaskell",
   "file_extension": ".hs",
   "name": "haskell",
   "version": "7.10.2"
  }
 },
 "nbformat": 4,
 "nbformat_minor": 0
}
