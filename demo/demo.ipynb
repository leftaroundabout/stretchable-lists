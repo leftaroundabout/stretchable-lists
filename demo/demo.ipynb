{
 "cells": [
  {
   "cell_type": "code",
   "execution_count": 9,
   "metadata": {
    "collapsed": true
   },
   "outputs": [],
   "source": [
    "{-# LANGUAGE OverloadedStrings, FlexibleContexts #-}\n",
    "import Data.List.Stretchable\n",
    "import Data.Foldable"
   ]
  },
  {
   "cell_type": "code",
   "execution_count": 2,
   "metadata": {
    "collapsed": false
   },
   "outputs": [
    {
     "data": {
      "text/plain": [
       "[0,1,2,3]:*(4,[5])"
      ]
     },
     "metadata": {},
     "output_type": "display_data"
    },
    {
     "data": {
      "text/plain": [
       "\"bar\":*('.',\"  \")"
      ]
     },
     "metadata": {},
     "output_type": "display_data"
    }
   ],
   "source": [
    "l :: Stretch Int\n",
    "l = [0,1,2,3]:*(4,[5])\n",
    "l\n",
    "\n",
    "s :: Stretch Char\n",
    "s = \"bar\":*('.',\"  \")\n",
    "s"
   ]
  },
  {
   "cell_type": "code",
   "execution_count": 3,
   "metadata": {
    "collapsed": false
   },
   "outputs": [
    {
     "data": {
      "text/plain": [
       "[\"\",\"a\",\"rr\",\"...\"]:*(\"    \",[\"     \",\"....\",\"     \",\"    \",\".....\"])"
      ]
     },
     "metadata": {},
     "output_type": "display_data"
    },
    {
     "data": {
      "text/plain": [
       "[('l','b'),('o','a'),('r','r'),('e','.'),('m',' '),(' ',' '),('i','.'),('p',' '),('s',' '),('u','.'),('m',' ')]:*((' ',' '),[(' ','.'),(' ',' ')])"
      ]
     },
     "metadata": {},
     "output_type": "display_data"
    }
   ],
   "source": [
    "replicate <$> l <*> s       :: Stretch String\n",
    "(,) <$> \"lorem ipsum\" <*> s :: Stretch (Char,Char)"
   ]
  },
  {
   "cell_type": "code",
   "execution_count": 4,
   "metadata": {
    "collapsed": false
   },
   "outputs": [
    {
     "data": {
      "text/plain": [
       "[\"bar\":*('.',\"  \"),\"ar\":*('.',\"  \"),\"r\":*('.',\"  \")]:*(\"\":*('.',\"  \"),[\"\":*(' ',\" .\"),\"\":*(' ',\". \")])"
      ]
     },
     "metadata": {},
     "output_type": "display_data"
    },
    {
     "data": {
      "text/plain": [
       "\"bar\":*('.',\"  \")"
      ]
     },
     "metadata": {},
     "output_type": "display_data"
    },
    {
     "data": {
      "text/plain": [
       "\"bar\":*('.',\"  \")"
      ]
     },
     "metadata": {},
     "output_type": "display_data"
    }
   ],
   "source": [
    "import Control.Comonad\n",
    "duplicate s\n",
    "extract $ duplicate s\n",
    "fmap extract $ duplicate s"
   ]
  },
  {
   "cell_type": "code",
   "execution_count": 18,
   "metadata": {
    "collapsed": false
   },
   "outputs": [
    {
     "data": {
      "text/plain": [
       "\"Ldcastu\":*('e',\"\")\n",
       "\"ooodeet\":*('t',\"\")\n",
       "\"rlnidm \":*(' ',\"\")\n",
       "\"eosp pl\":*('d',\"\")\n",
       "\"mreidoa\":*('o',\"\")\n",
       "\"  csorb\":*('l',\"\")\n",
       "\"istc  o\":*('o',\"\")\n",
       "\"pieieir\":*('r',\"\")\n",
       "\"sttnine\":*('e',\"\")\n",
       "\"u uguc \":*(' ',\"\")\n",
       "\"mar si \":*('m',\"\")\n",
       "\" m emd \":*('a',\"\")\n",
       "\" e loi \":*('g',\"\")\n",
       "\" t idd \":*('n',\"\")\n",
       "\" , t u \":*('a',\"\")\n",
       "\"   , n \":*(' ',\"\")\n",
       "\"     t \":*('a',\"\")\n",
       "\"       \":*('l',\"\")\n",
       "\"       \":*('i',\"\")\n",
       "\"       \":*('q',\"\")\n",
       "\"       \":*('u',\"\")\n",
       "\"       \":*('a',\"\")\n",
       "\"       \":*(' ',\"\")"
      ]
     },
     "metadata": {},
     "output_type": "display_data"
    }
   ],
   "source": [
    "mapM_ print (\n",
    " sequenceA $ \"Lorem ipsum\"\n",
    "          :# \"dolor sit amet,\":#\"consectetur\"\n",
    "          :# \"adipiscing elit,\":#\"sed do eiusmod\"\n",
    "          :# \"tempor incididunt\":#\"ut labore\"\n",
    "      :#pure \"et dolore magna aliqua\"                          :: Stretch (Stretch Char) )"
   ]
  },
  {
   "cell_type": "code",
   "execution_count": null,
   "metadata": {
    "collapsed": true
   },
   "outputs": [],
   "source": []
  }
 ],
 "metadata": {
  "kernelspec": {
   "display_name": "Haskell",
   "language": "haskell",
   "name": "haskell"
  },
  "language_info": {
   "codemirror_mode": "ihaskell",
   "file_extension": ".hs",
   "name": "haskell",
   "version": "7.10.2"
  }
 },
 "nbformat": 4,
 "nbformat_minor": 0
}
